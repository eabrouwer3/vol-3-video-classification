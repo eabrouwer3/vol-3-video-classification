{
 "cells": [
  {
   "cell_type": "markdown",
   "metadata": {},
   "source": [
    "# RNN Model"
   ]
  },
  {
   "cell_type": "code",
   "execution_count": 72,
   "metadata": {
    "collapsed": true,
    "jupyter": {
     "outputs_hidden": true
    }
   },
   "outputs": [
    {
     "name": "stdout",
     "output_type": "stream",
     "text": [
      "\n",
      "7-Zip [64] 16.02 : Copyright (c) 1999-2016 Igor Pavlov : 2016-05-21\n",
      "p7zip Version 16.02 (locale=C.UTF-8,Utf16=on,HugeFiles=on,64 bits,4 CPUs Intel(R) Xeon(R) CPU @ 2.30GHz (306F0),ASM,AES-NI)\n",
      "\n",
      "Scanning the drive for archives:\n",
      "  0M Sca        1 file, 6932971618 bytes (6612 MiB)\n",
      "\n",
      "Extracting archive: UCF101.rar\n",
      "  0% 100 Ope            --\n",
      "Path = UCF101.rar\n",
      "Type = Rar\n",
      "Physical Size = 6932971618\n",
      "Solid = -\n",
      "Blocks = 13422\n",
      "Multivolume = -\n",
      "Volumes = 1\n",
      "\n",
      " 9    0% 87 - UCF-101/ApplyEyeMakeup/v_ApplyEyeMakeup_g15_c05.av                                                              0% 178 - UCF-101/ApplyLipstick/v_ApplyLipstick_g08_c02.a                                                            0% 258 - UCF-101/ApplyLipstick/v_ApplyLipstick_g25_c04.a                                                            1% 304 - UCF-101/Archery/v_Archery_g08_c05.a                                                1% 352 - UCF-101/Archery/v_Archery_g16_c05.a                                                2% 423 - UCF-101/BabyCrawling/v_BabyCrawling_g05_c02.a                                                          2% 480 - UCF-101/BabyCrawling/v_BabyCrawling_g16_c01.a                                                          2% 545 - UCF-101/BalanceBeam/v_BalanceBeam_g03_c02.a                                                        3% 608 - UCF-101/BalanceBeam/v_BalanceBeam_g17_c05.a                                                        3% 660 - UCF-101/BandMarching/v_BandMarching_g03_c03.a                                                          3% 695 - UCF-101/BandMarching/v_BandMarching_g09_c02.a                                                          4% 718 - UCF-101/BandMarching/v_BandMarching_g12_c04.a                                                          4% 735 - UCF-101/BandMarching/v_BandMarching_g15_c04.a                                                          4% 759 - UCF-101/BandMarching/v_BandMarching_g19_c04.a                                                          5% 773 - UCF-101/BandMarching/v_BandMarching_g21_c05.a                                                          5% 791 - UCF-101/BandMarching/v_BandMarching_g24_c06.a                                                          5% 866 - UCF-101/BaseballPitch/v_BaseballPitch_g12_c01.a                                                            5% 943 - UCF-101/BaseballPitch/v_BaseballPitch_g25_c02.a                                                            6% 1010 - UCF-101/Basketball/v_Basketball_g13_c03.av                                                        6% 1069 - UCF-101/Basketball/v_Basketball_g23_c04.av                                                        6% 1149 - UCF-101/BasketballDunk/v_BasketballDunk_g14_c01.av                                                                7% 1215 - UCF-101/BenchPress/v_BenchPress_g01_c02.av                                                        7% 1275 - UCF-101/BenchPress/v_BenchPress_g09_c07.av                                                        7% 1334 - UCF-101/BenchPress/v_BenchPress_g19_c04.av                                                        8% 1384 - UCF-101/Biking/v_Biking_g02_c07.av                                                8% 1421 - UCF-101/Biking/v_Biking_g09_c04.av                                                8% 1465 - UCF-101/Biking/v_Biking_g18_c02.av                                                8% 1495 - UCF-101/Biking/v_Biking_g23_c03.av                                                9% 1522 - UCF-101/Billiards/v_Billiards_g03_c02.av                                                      9% 1546 - UCF-101/Billiards/v_Billiards_g07_c03.av                                                      9% 1575 - UCF-101/Billiards/v_Billiards_g12_c03.av                                                     10% 1605 - UCF-101/Billiards/v_Billiards_g16_c05.av                                                     10% 1634 - UCF-101/Billiards/v_Billiards_g21_c06.av                                                     10% 1671 - UCF-101/BlowDryHair/v_BlowDryHair_g03_c05.av                                                         11% 1704 - UCF-101/BlowDryHair/v_BlowDryHair_g09_c02.av                                                         11% 1720 - UCF-101/BlowDryHair/v_BlowDryHair_g11_c07.av                                                         11% 1753 - UCF-101/BlowDryHair/v_BlowDryHair_g18_c04.av                                                         12% 1816 - UCF-101/BlowingCandles/v_BlowingCandles_g06_c06.av                                                               12% 1888 - UCF-101/BlowingCandles/v_BlowingCandles_g24_c01.av                                                               12% 1958 - UCF-101/BodyWeightSquats/v_BodyWeightSquats_g14_c03.av                                                                   13% 2019 - UCF-101/Bowling/v_Bowling_g02_c03.av                                                 13% 2079 - UCF-101/Bowling/v_Bowling_g11_c06.av                                                 13% 2136 - UCF-101/Bowling/v_Bowling_g21_c04.av                                                 14% 2184 - UCF-101/BoxingPunchingBag/v_BoxingPunchingBag_g03_c06.av                                                                     14% 2210 - UCF-101/BoxingPunchingBag/v_BoxingPunchingBag_g07_c04.av                                                                     14% 2236 - UCF-101/BoxingPunchingBag/v_BoxingPunchingBag_g11_c05.av                                                                     15% 2281 - UCF-101/BoxingPunchingBag/v_BoxingPunchingBag_g19_c03.av                                                                     15% 2313 - UCF-101/BoxingPunchingBag/v_BoxingPunchingBag_g23_c07.av                                                                     15% 2355 - UCF-101/BoxingSpeedBag/v_BoxingSpeedBag_g06_c03.av                                                               15% 2383 - UCF-101/BoxingSpeedBag/v_BoxingSpeedBag_g11_c03.av                                                               16% 2402 - UCF-101/BoxingSpeedBag/v_BoxingSpeedBag_g14_c04.av                                                               16% 2437 - UCF-101/BoxingSpeedBag/v_BoxingSpeedBag_g20_c05.av                                                               16% 2486 - UCF-101/BreastStroke/v_BreastStroke_g07_c01.av                                                           17% 2530 - UCF-101/BreastStroke/v_BreastStroke_g18_c01.av                                                           17% 2572 - UCF-101/BrushingTeeth/v_BrushingTeeth_g02_c06.av                                                             17% 2607 - UCF-101/BrushingTeeth/v_BrushingTeeth_g09_c03.av                                                             18% 2645 - UCF-101/BrushingTeeth/v_BrushingTeeth_g17_c05.av                                                             18% 2671 - UCF-101/BrushingTeeth/v_BrushingTeeth_g22_c05.av                                                             18% 2704 - UCF-101/CleanAndJerk/v_CleanAndJerk_g03_c02.av                                                           19% 2741 - UCF-101/CleanAndJerk/v_CleanAndJerk_g11_c03.av                                                           19% 2787 - UCF-101/CleanAndJerk/v_CleanAndJerk_g21_c02.av                                                           19% 2848 - UCF-101/CliffDiving/v_CliffDiving_g08_c04.av                                                         19% 2914 - UCF-101/CliffDiving/v_CliffDiving_g20_c02.av                                                         20% 2986 - UCF-101/CricketBowling/v_CricketBowling_g09_c02.av                                                               20% 3071 - UCF-101/CricketBowling/v_CricketBowling_g23_c04.av                                                               20% 3142 - UCF-101/CricketShot/v_CricketShot_g09_c04.av                                                         21% 3212 - UCF-101/CricketShot/v_CricketShot_g20_c02.av                                                         21% 3264 - UCF-101/CuttingInKitchen/v_CuttingInKitchen_g04_c02.av                                                                   22% 3312 - UCF-101/CuttingInKitchen/v_CuttingInKitchen_g14_c03.av                                                                   22% 3361 - UCF-101/Diving/v_Diving_g01_c02.av                                               22% 3409 - UCF-101/Diving/v_Diving_g08_c05.av                                               22% 3454 - UCF-101/Diving/v_Diving_g15_c06.av                                               23% 3498 - UCF-101/Diving/v_Diving_g23_c06.av                                               23% 3531 - UCF-101/Drumming/v_Drumming_g04_c03.av                                                   23% 3560 - UCF-101/Drumming/v_Drumming_g09_c01.av                                                   24% 3586 - UCF-101/Drumming/v_Drumming_g13_c02.av                                                   24% 3614 - UCF-101/Drumming/v_Drumming_g17_c03.av                                                   24% 3642 - UCF-101/Drumming/v_Drumming_g21_c04.av                                                   24% 3669 - UCF-101/Drumming/v_Drumming_g25_c06.av                                                   25% 3719 - UCF-101/Fencing/v_Fencing_g10_c05.av                                                 25% 3776 - UCF-101/Fencing/v_Fencing_g24_c03.av                                                 25% 3833 - UCF-101/FieldHockeyPenalty/v_FieldHockeyPenalty_g10_c03.av                                                                       26% 3880 - UCF-101/FieldHockeyPenalty/v_FieldHockeyPenalty_g19_c04.av                                                                       26% 3932 - UCF-101/FloorGymnastics/v_FloorGymnastics_g06_c03.av                                                                 26% 3974 - UCF-101/FloorGymnastics/v_FloorGymnastics_g14_c01.av                                                                 27% 4013 - UCF-101/FloorGymnastics/v_FloorGymnastics_g21_c03.av                                                                 27% 4069 - UCF-101/FrisbeeCatch/v_FrisbeeCatch_g07_c06.av                                                           27% 4133 - UCF-101/FrisbeeCatch/v_FrisbeeCatch_g20_c04.av                                                           28% 4175 - UCF-101/FrontCrawl/v_FrontCrawl_g04_c03.av                                                       28% 4207 - UCF-101/FrontCrawl/v_FrontCrawl_g10_c01.av                                                       28% 4243 - UCF-101/FrontCrawl/v_FrontCrawl_g17_c02.av                                                       29% 4279 - UCF-101/FrontCrawl/v_FrontCrawl_g23_c01.av                                                       29% 4320 - UCF-101/GolfSwing/v_GolfSwing_g05_c02.av                                                     29% 4371 - UCF-101/GolfSwing/v_GolfSwing_g15_c04.av                                                     30% 4415 - UCF-101/GolfSwing/v_GolfSwing_g23_c02.av                                                     30% 4471 - UCF-101/Haircut/v_Haircut_g08_c04.av                                                 30% 4518 - UCF-101/Haircut/v_Haircut_g18_c01.av                                                 30% 454         31% 4600 - UCF-101/Hammering/v_Hammering_g08_c03.av                                                     31% 4670 - UCF-101/Hammering/v_Hammering_g20_c01.av                                                     31% 4720 - UCF-101/HammerThrow/v_HammerThrow_g03_c03.av                                                         32% 4755 - UCF-101/HammerThrow/v_HammerThrow_g08_c06.av                                                         32% 4795 - UCF-101/HammerThrow/v_HammerThrow_g14_c06.av                                                         32% 4831 - UCF-101/HammerThrow/v_HammerThrow_g21_c05.av                                                         33% 4903 - UCF-101/HandstandPushups/v_HandStandPushups_g12_c02.av                                                                   33% 5000 - UCF-101/HandstandWalking/v_HandstandWalking_g05_c01.av                                                                   33% 5037 - UCF-101/HandstandWalking/v_HandstandWalking_g13_c01.av                                                                   34% 5072 - UCF-101/HandstandWalking/v_HandstandWalking_g21_c01.av                                                                   34% 5100 - UCF-101/HeadMassage/v_HeadMassage_g02_c02.av                                                         34% 5120 - UCF-101/HeadMassage/v_HeadMassage_g05_c04.av                                                         35% 5156 - UCF-101/HeadMassage/v_HeadMassage_g11_c07.av                                                         35% 5198 - UCF-101/HeadMassage/v_HeadMassage_g18_c06.av                                                         35% 5234 - UCF-101/HeadMassage/v_HeadMassage_g25_c01.av                                                         36% 5291 - UCF-101/HighJump/v_HighJump_g10_c04.av                                                   36% 5357 - UCF-101/HighJump/v_HighJump_g24_c04.av                                                   36% 5400 - UCF-101/HorseRace/v_HorseRace_g08_c02.av                                                     36% 5431 - UCF-101/HorseRace/v_HorseRace_g14_c04.av                                                     37% 5463 - UCF-101/HorseRace/v_HorseRace_g21_c01.av                                                     37% 5497 - UCF-101/HorseRiding/v_HorseRiding_g02_c03.av                                                         37% 5541 - UCF-101/HorseRiding/v_HorseRiding_g08_c05.av                                                         38% 5585 - UCF-101/HorseRiding/v_HorseRiding_g15_c05.av                                                         38% 5625 - UCF-101/HorseRiding/v_HorseRiding_g22_c01.av                                                         38% 5675 - UCF-101/HulaHoop/v_HulaHoop_g05_c03.av                                                   38% 5742 - UCF-101/HulaHoop/v_HulaHoop_g19_c01.av                                                   39% 5788 - UCF-101/IceDancing/v_IceDancing_g02_c05.av                                                       39% 5801 - UCF-101/IceDancing/v_IceDancing_g04_c05.av                                                       39% 5824 - UCF-101/IceDancing/v_IceDancing_g08_c02.av                                                       40% 5846 - UCF-101/IceDancing/v_IceDancing_g11_c04.av                                                       40% 5868 - UCF-101/IceDancing/v_IceDancing_g15_c04.av                                                       40% 5890 - UCF-101/IceDancing/v_IceDancing_g19_c05.av                                                       41% 5913 - UCF-101/IceDancing/v_IceDancing_g22_c07.av                                                       41% 5934 - UCF-101/IceDancing/v_IceDancing_g25_c07.av                                                       41% 6005 - UCF-101/JavelinThrow/v_JavelinThrow_g16_c01.av                                                           41% 6061 - UCF-101/JugglingBalls/v_JugglingBalls_g02_c06.av                                                             42% 6094 - UCF-101/JugglingBalls/v_JugglingBalls_g08_c03.av                                                             42% 6127 - UCF-101/JugglingBalls/v_JugglingBalls_g15_c02.av                                                             42% 6160 - UCF-101/JugglingBalls/v_JugglingBalls_g23_c01.av                                                             43% 6238 - UCF-101/JumpingJack/v_JumpingJack_g13_c04.av                                                         43% 6305 - UCF-101/JumpRope/v_JumpRope_g02_c06.av                                                   43% 6332 - UCF-101/JumpRope/v_JumpRope_g07_c05.av                                                   44% 6355 - UCF-101/JumpRope/v_JumpRope_g11_c04.av                                                   44% 6380 - UCF-101/JumpRope/v_JumpRope_g16_c02.av                                                   44% 6401 - UCF-101/JumpRope/v_JumpRope_g19_c04.av                                                   45% 643         45% 6460 - UCF-101/Kayaking/v_Kayaking_g04_c07.av                                                   45% 6501 - UCF-101/Kayaking/v_Kayaking_g12_c02.av                                                   45% 6531 - UCF-101/Kayaking/v_Kayaking_g17_c06.av                                                   46% 6574 - UCF-101/Kayaking/v_Kayaking_g24_c04.av                                                   46% 6601 - UCF-101/Knitting/v_Knitting_g05_c01.av                                                   46% 6633 - UCF-101/Knitting/v_Knitting_g11_c03.av                                                   47% 6671 - UCF-101/Knitting/v_Knitting_g18_c03.av                                                   47% 6700 - UCF-101/Knitting/v_Knitting_g25_c04.av                                                   47% 6747 - UCF-101/LongJump/v_LongJump_g08_c05.av                                                   48% 6793 - UCF-101/LongJump/v_LongJump_g16_c04.av                                                   48% 6834 - UCF-101/LongJump/v_LongJump_g25_c04.av                                                   48% 6864 - UCF-101/Lunges/v_Lunges_g06_c07.av                                               49% 6895 - UCF-101/Lunges/v_Lunges_g12_c03.av                                               49% 6928 - UCF-101/Lunges/v_Lunges_g19_c01.av                                               49% 6963 - UCF-101/MilitaryParade/v_MilitaryParade_g01_c02.av                                                               49% 7018 - UCF-101/MilitaryParade/v_MilitaryParade_g12_c02.av                                                               50% 7063 - UCF-101/MilitaryParade/v_MilitaryParade_g20_c04.av                                                               50% 7125 - UCF-101/Mixing/v_Mixing_g06_c05.av                                               50% 7194 - UCF-101/Mixing/v_Mixing_g18_c04.av                                               51% 7241 - UCF-101/MoppingFloor/v_MoppingFloor_g04_c05.av                                                           51% 7268 - UCF-101/MoppingFloor/v_MoppingFloor_g10_c04.av                                                           51% 7297 - UCF-101/MoppingFloor/v_MoppingFloor_g17_c05.av                                                           52% 7327 - UCF-101/MoppingFloor/v_MoppingFloor_g24_c03.av                                                           52% 7361 - UCF-101/Nunchucks/v_Nunchucks_g06_c02.av                                                     52% 7402 - UCF-101/Nunchucks/v_Nunchucks_g13_c06.av                                                     52% 7433 - UCF-101/Nunchucks/v_Nunchucks_g19_c03.av                                                     53% 7473 - UCF-101/ParallelBars/v_ParallelBars_g03_c01.av                                                           53% 7516 - UCF-101/ParallelBars/v_ParallelBars_g10_c04.av                                                           53% 7555 - UCF-101/ParallelBars/v_ParallelBars_g20_c01.av                                                           54% 7606 - UCF-101/PizzaTossing/v_PizzaTossing_g06_c04.av                                                           54% 7661 - UCF-101/PizzaTossing/v_PizzaTossing_g19_c05.av                                                           54% 7701 - UCF-101/PlayingCello/v_PlayingCello_g02_c03.av                                                           55% 7738 - UCF-101/PlayingCello/v_PlayingCello_g08_c03.av                                                           55% 7769 - UCF-101/PlayingCello/v_PlayingCello_g12_c07.av                                                           55% 7802 - UCF-101/PlayingCello/v_PlayingCello_g18_c01.av                                                           55% 7827 - UCF-101/PlayingCello/v_PlayingCello_g21_c05.av                                                           56% 7861 - UCF-101/PlayingDaf/v_PlayingDaf_g02_c02.av                                                       56% 7882 - UCF-101/PlayingDaf/v_PlayingDaf_g05_c05.av                                                       56% 7908 - UCF-101/PlayingDaf/v_PlayingDaf_g09_c05.av                                                       57% 7934 - UCF-101/PlayingDaf/v_PlayingDaf_g14_c04.av                                                       57% 7959 - UCF-101/PlayingDaf/v_PlayingDaf_g18_c05.av                                                       57% 7978 - UCF-101/PlayingDaf/v_PlayingDaf_g21_c03.av                                                       58% 8003 - UCF-101/PlayingDaf/v_PlayingDaf_g25_c04.av                                                       58% 8035 - UCF-101/PlayingDhol/v_PlayingDhol_g05_c01.av                                                         58% 8056 - UCF-101/PlayingDhol/v_PlayingDhol_g08_c01.av                                                         59% 8073 - UCF-101/PlayingDhol/v_PlayingDhol_g10_c04.av                                                         59% 8094 - UCF-101/PlayingDhol/v_PlayingDhol_g13_c05.av                                                         59% 8118 - UCF-101/PlayingDhol/v_PlayingDhol_g17_c05.av                                                         60% 8141 - UCF-101/PlayingDhol/v_PlayingDhol_g21_c04.av                                                         60% 8162 - UCF-101/PlayingDhol/v_PlayingDhol_g24_c04.av                                                         60% 8186 - UCF-101/PlayingFlute/v_PlayingFlute_g03_c02.av                                                           61% 8218 - UCF-101/PlayingFlute/v_PlayingFlute_g07_c07.av                                                           61% 8258 - UCF-101/PlayingFlute/v_PlayingFlute_g14_c04.av                                                           61% 8309 - UCF-101/PlayingFlute/v_PlayingFlute_g23_c02.av                                                           61% 8348 - UCF-101/PlayingGuitar/v_PlayingGuitar_g04_c06.av                                                             62% 8381 - UCF-101/PlayingGuitar/v_PlayingGuitar_g10_c02.av                                                             62% 8386 - UCF-101/PlayingGuitar/v_PlayingGuitar_g10_c07.av                                                             62% 8419 - UCF-101/PlayingGuitar/v_PlayingGuitar_g15_c05.av                                                             62% 8458 - UCF-101/PlayingGuitar/v_PlayingGuitar_g21_c02.av                                                             63% 8497 - UCF-101/PlayingPiano/v_PlayingPiano_g03_c04.av                                                           63% 8557 - UCF-101/PlayingPiano/v_PlayingPiano_g17_c05.av                                                           63% 8605 - UCF-101/PlayingSitar/v_PlayingSitar_g03_c05.av                                                           64% 8619 - UCF-101/PlayingSitar/v_PlayingSitar_g05_c05.av                                                           64% 8638 - UCF-101/PlayingSitar/v_PlayingSitar_g08_c04.av                                                           64% 8657 - UCF-101/PlayingSitar/v_PlayingSitar_g11_c02.av                                                           65% 8675 - UCF-101/PlayingSitar/v_PlayingSitar_g14_c05.av                                                           65% 8691 - UCF-101/PlayingSitar/v_PlayingSitar_g17_c03.av                                                           65% 8707 - UCF-101/PlayingSitar/v_PlayingSitar_g19_c05.av                                                           66% 8727 - UCF-101/PlayingSitar/v_PlayingSitar_g22_c04.av                                                           66% 8743 - UCF-101/PlayingSitar/v_PlayingSitar_g24_c07.av                                                           66% 8772 - UCF-101/PlayingTabla/v_PlayingTabla_g06_c02.av                                                           67% 8804 - UCF-101/PlayingTabla/v_PlayingTabla_g13_c03.av                                                           67% 8839 - UCF-101/PlayingTabla/v_PlayingTabla_g21_c02.av                                                           67% 8874 - UCF-101/PlayingViolin/v_PlayingViolin_g04_c04.av                                                             68% 8925 - UCF-101/PlayingViolin/v_PlayingViolin_g17_c03.av                                                             68% 8975 - UCF-101/PoleVault/v_PoleVault_g03_c05.av                                                     68% 9020 - UCF-101/PoleVault/v_PoleVault_g12_c02.av                                                     69% 9072 - UCF-101/PoleVault/v_PoleVault_g20_c03.av                                                     69% 9119 - UCF-101/PommelHorse/v_PommelHorse_g03_c01.av                                                         69% 9149 - UCF-101/PommelHorse/v_PommelHorse_g09_c03.av                                                         69% 9175 - UCF-101/PommelHorse/v_PommelHorse_g14_c03.av                                                         70% 9203 - UCF-101/PommelHorse/v_PommelHorse_g20_c03.av                                                         70% 9228 - UCF-101/PommelHorse/v_PommelHorse_g25_c02.av                                                         70% 9294 - UCF-101/PullUps/v_PullUps_g16_c04.av                                                 71% 9349 - UCF-101/Punch/v_Punch_g05_c01.av                                             71% 9376 - UCF-101/Punch/v_Punch_g08_c07.av                                             71% 9405 - UCF-101/Punch/v_Punch_g13_c02.av                                             72% 9432 - UCF-101/Punch/v_Punch_g17_c02.av                                             72% 9459 - UCF-101/Punch/v_Punch_g21_c04.av                                             72% 9484 - UCF-101/Punch/v_Punch_g25_c01.av                                             73% 9564 - UCF-101/PushUps/v_PushUps_g18_c04.av                                                 73% 9613 - UCF-101/Rafting/v_Rafting_g06_c01.av                                                 73% 9637 - UCF-101/Rafting/v_Rafting_g11_c02.av                                                 73% 9661 - UCF-101/Rafting/v_Rafting_g16_c04.av                                                 74% 9689 - UCF-101/Rafting/v_Rafting_g22_c02.av                                                 74% 9716 - UCF-101/RockClimbingIndoor/v_RockClimbingIndoor_g03_c03.av                                                                       74% 9735 - UCF-101/RockClimbingIndoor/v_RockClimbingIndoor_g06_c05.av                                                                       75% 9760 - UCF-101/RockClimbingIndoor/v_RockClimbingIndoor_g10_c05.av                                                                       75% 9792 - UCF-101/RockClimbingIndoor/v_RockClimbingIndoor_g16_c05.av                                                                       75% 9819 - UCF-101/RockClimbingIndoor/v_RockClimbingIndoor_g21_c06.av                                                                       76% 9843 - UCF-101/RockClimbingIndoor/v_RockClimbingIndoor_g25_c03.av                                                                       76% 9886 - UCF-101/RopeClimbing/v_RopeClimbing_g09_c01.av                                                           76% 9931 - UCF-101/RopeClimbing/v_RopeClimbing_g18_c02.av                                                           77% 9973 - UCF-101/Rowing/v_Rowing_g02_c03.av                                               77% 9996 - UCF-101/Rowing/v_Rowing_g06_c03.av                                               77% 10019 - UCF-101/Rowing/v_Rowing_g10_c07.a                                               77% 10027 - UCF-101/Rowing/v_Rowing_g12_c02.a                                               78% 10049 - UCF-101/Rowing/v_Rowing_g15_c03.a                                               78% 10072 - UCF-101/Rowing/v_Rowing_g19_c04.a                                               78% 10106 - UCF-101/SalsaSpin/v_SalsaSpin_g01_c03.a                                                     79% 10136 - UCF-101/SalsaSpin/v_SalsaSpin_g06_c01.a                                                     79% 101         79% 10215 - UCF-101/SalsaSpin/v_SalsaSpin_g21_c02.a                                                     79% 10255 - UCF-101/ShavingBeard/v_ShavingBeard_g04_c01.a                                                           80% 10289 - UCF-101/ShavingBeard/v_ShavingBeard_g09_c03.a                                                           80% 10331 - UCF-101/ShavingBeard/v_ShavingBeard_g16_c02.a                                                           80% 10361 - UCF-101/ShavingBeard/v_ShavingBeard_g20_c05.a                                                           81% 10428 - UCF-101/Shotput/v_Shotput_g05_c06.a                                                 81% 10511 - UCF-101/Shotput/v_Shotput_g19_c03.a                                                 81% 10568 - UCF-101/SkateBoarding/v_SkateBoarding_g06_c04.a                                                             82% 10623 - UCF-101/SkateBoarding/v_SkateBoarding_g18_c01.a                                                             82% 10677 - UCF-101/Skiing/v_Skiing_g03_c05.a                                               82% 10722 - UCF-101/Skiing/v_Skiing_g11_c03.a                                               82% 10765 - UCF-101/Skiing/v_Skiing_g20_c03.a                                               83% 10807 - UCF-101/Skijet/v_Skijet_g03_c03.a                                               83% 10854 - UCF-101/Skijet/v_Skijet_g15_c02.a                                               83% 10897 - UCF-101/SkyDiving/v_SkyDiving_g01_c01.a                                                     84% 10934 - UCF-101/SkyDiving/v_SkyDiving_g09_c03.a                                                     84% 10965 - UCF-101/SkyDiving/v_SkyDiving_g16_c04.a                                                     84% 10994 - UCF-101/SkyDiving/v_SkyDiving_g22_c04.a                                                     85% 11023 - UCF-101/SoccerJuggling/v_SoccerJuggling_g04_c02.a                                                               85% 11031 - UCF-101/SoccerJuggling/v_SoccerJuggling_g05_c04.a                                                               85% 11064 - UCF-101/SoccerJuggling/v_SoccerJuggling_g11_c04.a                                                               85% 11089 - UCF-101/SoccerJuggling/v_SoccerJuggling_g16_c01.a                                                               86% 11116 - UCF-101/SoccerJuggling/v_SoccerJuggling_g19_c07.a                                                               86% 11147 - UCF-101/SoccerJuggling/v_SoccerJuggling_g24_c07.a                                                               86% 11206 - UCF-101/SoccerPenalty/v_SoccerPenalty_g10_c01.a                                                             86% 11276 - UCF-101/SoccerPenalty/v_SoccerPenalty_g23_c02.a                                                             87% 11323 - UCF-101/StillRings/v_StillRings_g08_c01.a                                                       87% 11361 - UCF-101/StillRings/v_StillRings_g17_c01.a                                                       87% 11383 - UCF-101/StillRings/v_StillRings_g21_c07.a                                                       88% 11421 - UCF-101/SumoWrestling/v_SumoWrestling_g05_c03.a                                                             88% 11450 - UCF-101/SumoWrestling/v_SumoWrestling_g10_c03.a                                                             88% 11480 - UCF-101/SumoWrestling/v_SumoWrestling_g17_c03.a                                                             89% 11507 - UCF-101/SumoWrestling/v_SumoWrestling_g23_c01.a                                                             89% 11539 - UCF-101/Surfing/v_Surfing_g04_c04.a                                                 89% 11567 - UCF-101/Surfing/v_Surfing_g10_c04.a                                                 90% 11597 - UCF-101/Surfing/v_Surfing_g16_c01.a                                                 90% 11637 - UCF-101/Surfing/v_Surfing_g24_c01.a                                                 90% 11673 - UCF-101/Swing/v_Swing_g06_c01.a                                             91% 11713 - UCF-101/Swing/v_Swing_g13_c02.a                                             91% 11754 - UCF-101/Swing/v_Swing_g21_c04.a                                             91% 11815 - UCF-101/TableTennisShot/v_TableTennisShot_g08_c01.a                                                                 92% 11897 - UCF-101/TableTennisShot/v_TableTennisShot_g23_c03.a                                                                 92% 11948 - UCF-101/TaiChi/v_TaiChi_g09_c01.a                                               92% 12002 - UCF-101/TaiChi/v_TaiChi_g22_c03.a                                               92% 12013 - UCF-101/TaiChi/v_TaiChi_g25_c02.a                                               93% 12074 - UCF-101/TennisSwing/v_TennisSwing_g09_c04.a                                                         93% 12142 - UCF-101/TennisSwing/v_TennisSwing_g19_c03.a                                                         93% 12198 - UCF-101/ThrowDiscus/v_ThrowDiscus_g04_c02.a                                                         93% 12262 - UCF-101/ThrowDiscus/v_ThrowDiscus_g16_c01.a                                                         94% 12324 - UCF-101/TrampolineJumping/v_TrampolineJumping_g03_c03.a                                                                     94% 12357 - UCF-101/TrampolineJumping/v_TrampolineJumping_g10_c04.a                                                                     94% 12396 - UCF-101/TrampolineJumping/v_TrampolineJumping_g18_c03.a                                                                     94% 12437 - UCF-101/Typing/v_Typing_g01_c07.a                                               95% 12480 - UCF-101/Typing/v_Typing_g08_c07.a                                               95% 12531 - UCF-101/Typing/v_Typing_g17_c04.a                                               95% 12569 - UCF-101/UnevenBars/v_UnevenBars_g01_c03.a                                                       96% 12610 - UCF-101/UnevenBars/v_UnevenBars_g11_c04.a                                                       96% 12645 - UCF-101/UnevenBars/v_UnevenBars_g19_c03.a                                                       96% 12696 - UCF-101/VolleyballSpiking/v_VolleyballSpiking_g06_c02.a                                                                     97% 12772 - UCF-101/VolleyballSpiking/v_VolleyballSpiking_g22_c02.a                                                                     97% 12815 - UCF-101/WalkingWithDog/v_WalkingWithDog_g06_c04.a                                                               97% 12851 - UCF-101/WalkingWithDog/v_WalkingWithDog_g13_c03.a                                                               97% 12888 - UCF-101/WalkingWithDog/v_WalkingWithDog_g21_c01.a                                                               98% 12964 - UCF-101/WallPushups/v_WallPushups_g11_c05.a                                                         98% 13044 - UCF-101/WritingOnBoard/v_WritingOnBoard_g01_c05.a                                                               98% 13140 - UCF-101/WritingOnBoard/v_WritingOnBoard_g18_c02.a                                                               99% 13203 - UCF-101/YoYo/v_YoYo_g02_c05.a                                           99% 13243 - UCF-101/YoYo/v_YoYo_g10_c05.a                                           99% 13284 - UCF-101/YoYo/v_YoYo_g19_c02.a                                           99% 13314 - UCF-101/YoYo/v_YoYo_g24_c04.a                                          Everything is Ok\n",
      "\n",
      "Folders: 102\n",
      "Files: 13320\n",
      "Size:       7193326396\n",
      "Compressed: 6932971618\n"
     ]
    }
   ],
   "source": [
    "# ! wget --no-check-certificate https://www.crcv.ucf.edu/data/UCF101/UCF101.rar\n",
    "# ! sudo apt -y install p7zip-full\n",
    "# ! wget http://ftp.br.debian.org/debian/pool/non-free/p/p7zip-rar/p7zip-rar_16.02-3_amd64.deb\n",
    "# ! sudo dpkg -i p7zip-rar_16.02-3_amd64.deb\n",
    "# ! 7z x UCF101.rar"
   ]
  },
  {
   "cell_type": "code",
   "execution_count": 1,
   "metadata": {
    "id": "W7qYKJetVjwu"
   },
   "outputs": [
    {
     "name": "stdout",
     "output_type": "stream",
     "text": [
      "Requirement already satisfied: av in /opt/conda/lib/python3.7/site-packages (8.0.3)\n"
     ]
    }
   ],
   "source": [
    "! pip install av\n",
    "\n",
    "import torch\n",
    "from torch import nn\n",
    "from torch.nn.utils.rnn import pack_sequence\n",
    "from torch.utils.data import DataLoader\n",
    "import torchvision\n",
    "from torchvision import io, models\n",
    "from torchvision.datasets.folder import make_dataset\n",
    "from torchvision.datasets.utils import list_dir\n",
    "\n",
    "from sklearn.model_selection import train_test_split\n",
    "import os\n",
    "import re\n",
    "import time\n",
    "from tqdm import tqdm\n",
    "from matplotlib import pyplot as plt\n",
    "\n",
    "device = torch.device('cuda:0') if torch.cuda.is_available() else torch.device('cpu')"
   ]
  },
  {
   "cell_type": "markdown",
   "metadata": {},
   "source": [
    "## PyTorch Dataset"
   ]
  },
  {
   "cell_type": "code",
   "execution_count": 26,
   "metadata": {
    "id": "Hq_1thiSXlZH"
   },
   "outputs": [],
   "source": [
    "class UCF101(torchvision.datasets.VisionDataset):\n",
    "    def __init__(self, root, annotation, transform=None):\n",
    "        super(UCF101, self).__init__(root)\n",
    "\n",
    "        extensions = ('avi',)\n",
    "        self.train = train\n",
    "\n",
    "        classes = list(sorted(list_dir(root)))\n",
    "        class_to_idx = {classes[i]: i for i in range(len(classes))}\n",
    "        self.samples = make_dataset(self.root, class_to_idx, extensions, is_valid_file=None)\n",
    "        self.classes = classes\n",
    "\n",
    "        video_list = [x[0] for x in self.samples]\n",
    "        self.indices = [i for i in range(len(video_list)) if video_list[i] in annotation]\n",
    "        self.transform = transform\n",
    "\n",
    "    def __len__(self):\n",
    "        return len(self.indices)\n",
    "\n",
    "    def __getitem__(self, idx):\n",
    "        file_ = self.samples[self.indices[idx]][0]\n",
    "        video, audio, info = io.read_video(file_, pts_unit='sec')\n",
    "        label = self.samples[self.indices[idx]][1] - 1\n",
    "        video = video.transpose(2, 3).transpose(1, 2)\n",
    "\n",
    "        if self.transform is not None:\n",
    "            video = self.transform(video)\n",
    "\n",
    "        return video, audio, label"
   ]
  },
  {
   "cell_type": "markdown",
   "metadata": {},
   "source": [
    "## Set up Training/Testing Datasets"
   ]
  },
  {
   "cell_type": "code",
   "execution_count": 27,
   "metadata": {
    "id": "57TUKR00Hcv-"
   },
   "outputs": [],
   "source": [
    "file_list = {}\n",
    "unique_list = []\n",
    "# class_list = ['ApplyEyeMakeup', 'ApplyLipstick', 'Archery', 'BabyCrawling', 'BalanceBeam', 'BandMarching', 'BaseballPitch', 'Basketball', 'BasketballDunk', 'BenchPress']\n",
    "class_list = ['ApplyLipstick', 'Archery']\n",
    "\n",
    "f_re = re.compile('v_([A-Za-z]+)_g([0-9]+)_c([0-9]+).avi')\n",
    "# Shuffle train/test dataset\n",
    "for _, dirs, _ in os.walk('./UCF-101'):\n",
    "    for dir in dirs:\n",
    "        for _, _, files in os.walk(f'./UCF-101/{dir}'):\n",
    "            for file in files:\n",
    "                if dir in class_list:\n",
    "                    m = f_re.match(file)\n",
    "                    if m.group(1) not in file_list:\n",
    "                        file_list[m.group(1)] = {}\n",
    "                    if m.group(2) not in file_list[m.group(1)]:\n",
    "                        file_list[m.group(1)][m.group(2)] = []\n",
    "                    file_list[m.group(1)][m.group(2)].append(m.group(3))\n",
    "                    unique_list.append(f'{m.group(1)}_{m.group(2)}')\n",
    "\n",
    "unique_list = list(set(unique_list))\n",
    "train, test = train_test_split(unique_list, random_state=42)\n",
    "\n",
    "train_sublists = [[f'./UCF-101/{file.split(\"_\")[0]}/v_{file.split(\"_\")[0]}_g{file.split(\"_\")[1]}_c{c}.avi' for c in file_list[file.split(\"_\")[0]][file.split(\"_\")[1]]] for file in train]\n",
    "train_list = [item for sublist in train_sublists for item in sublist]\n",
    "\n",
    "test_sublists = [[f'./UCF-101/{file.split(\"_\")[0]}/v_{file.split(\"_\")[0]}_g{file.split(\"_\")[1]}_c{c}.avi' for c in file_list[file.split(\"_\")[0]][file.split(\"_\")[1]]] for file in test]\n",
    "test_list = [item for sublist in test_sublists for item in sublist]\n",
    "\n",
    "train_dataset = UCF101('./UCF-101', train_list)\n",
    "val_dataset = UCF101('./UCF-101', test_list)"
   ]
  },
  {
   "cell_type": "markdown",
   "metadata": {},
   "source": [
    "## Define RNN Model"
   ]
  },
  {
   "cell_type": "code",
   "execution_count": 4,
   "metadata": {
    "id": "O9G7mON_ZCbZ"
   },
   "outputs": [],
   "source": [
    "class RNNModel(nn.Module):\n",
    "    def __init__(self, hidden_dim, num_classes, n_layers, drop_prob=0.2):\n",
    "        super(RNNModel, self).__init__()\n",
    "        self.hidden_dim = hidden_dim\n",
    "        self.n_layers = n_layers\n",
    "\n",
    "        self.conv = models.alexnet(pretrained=True)\n",
    "        self.conv.classifier[-1] = nn.Identity()\n",
    "        for param in self.conv.parameters():\n",
    "            param.requires_grad = False\n",
    "        self.gru = nn.GRU(4096, hidden_dim, n_layers, batch_first=True, dropout=drop_prob)\n",
    "        self.fc = nn.Linear(hidden_dim, num_classes)\n",
    "    \n",
    "    def forward(self, x, h=None):\n",
    "        x = self.conv(x.squeeze(0))\n",
    "        for frame in x:\n",
    "            out, h = self.gru(frame.unsqueeze(0).unsqueeze(0), h)\n",
    "        out = self.fc(out.squeeze(1))\n",
    "        return out"
   ]
  },
  {
   "cell_type": "markdown",
   "metadata": {},
   "source": [
    "## Define Evaluation Function"
   ]
  },
  {
   "cell_type": "code",
   "execution_count": 5,
   "metadata": {},
   "outputs": [],
   "source": [
    "def evaluate(val_loader, model, criterion):\n",
    "    correct_count = 0\n",
    "    avg_loss = 0\n",
    "    print('Evaluating...')\n",
    "    loop = tqdm(total=len(val_loader), position=0, leave=True)\n",
    "    for i, (video, audio, label) in enumerate(val_loader, 1):\n",
    "        out = model(video.float().to(device))\n",
    "        loss = criterion(out, label.to(device))\n",
    "        avg_loss += loss.item()\n",
    "        if torch.argmax(out) == label.to(device):\n",
    "            correct_count += 1\n",
    "        loop.update(1)\n",
    "    loop.close()\n",
    "    return avg_loss/len(val_loader), correct_count/len(val_loader)"
   ]
  },
  {
   "cell_type": "markdown",
   "metadata": {},
   "source": [
    "## Define Training Function"
   ]
  },
  {
   "cell_type": "code",
   "execution_count": 37,
   "metadata": {
    "id": "1532e0LCaysk"
   },
   "outputs": [],
   "source": [
    "def train(train_loader, val_loader, learn_rate, hidden_dim=256, EPOCHS=5, state_file=None):\n",
    "    # Setting common hyperparameters\n",
    "    input_dim = 240*320\n",
    "    num_classes = len(class_list)\n",
    "    n_layers = 2\n",
    "    # Instantiating the model\n",
    "    model = RNNModel(hidden_dim, num_classes, n_layers)\n",
    "    # Load state_dict\n",
    "    if state_file:\n",
    "        if os.path.exists(state_file):\n",
    "            model.load_state_dict(torch.load(state_file))\n",
    "        else:\n",
    "            print(f'WARNING: {state_file} does not exist. A new file will be created after first epoch.')\n",
    "    model.to(device)\n",
    "  \n",
    "    # Defining loss function and optimizer\n",
    "    criterion = nn.CrossEntropyLoss()\n",
    "    optimizer = torch.optim.Adam(model.parameters(), lr=learn_rate)\n",
    "    \n",
    "    train_losses = []\n",
    "    avg_train_losses = []\n",
    "    val_losses = []\n",
    "    val_accs = []\n",
    "\n",
    "    model.train()\n",
    "    epoch_times = []\n",
    "    # Start training loop\n",
    "    for epoch in range(1, EPOCHS+1):\n",
    "        epoch_start = time.time()\n",
    "        avg_loss = 0\n",
    "        loop = tqdm(total=len(train_loader), position=0, leave=True)\n",
    "        for i, (video, audio, label) in enumerate(train_loader, 1):\n",
    "            model.zero_grad()\n",
    "            out = model(video.float().to(device))\n",
    "            loss = criterion(out, label.to(device))\n",
    "            loss.backward()\n",
    "            optimizer.step()\n",
    "            loss_item = loss.item()\n",
    "            avg_loss += loss_item\n",
    "\n",
    "            train_losses.append(loss_item)\n",
    "            loop.update(1)\n",
    "            loop.set_description(f\"Epoch {epoch}, Step: {i}/{len(train_loader)}, Loss: {loss_item}, Average Loss for Epoch: {avg_loss/i}\")\n",
    "        loop.close()\n",
    "\n",
    "        avg_train_losses.append(avg_loss/len(train_loader))\n",
    "        print()\n",
    "        print(f\"Epoch {epoch}/{EPOCHS} Done, Total Loss: {avg_train_losses[-1]}\")\n",
    "        print(f\"Total Train Time Elapsed: {(time.time() - epoch_start):.2f} seconds\")\n",
    "        \n",
    "        val_start = time.time()\n",
    "        val_loss, accuracy = evaluate(val_loader, model, criterion)\n",
    "        val_accs.append(accuracy)\n",
    "        val_losses.append(val_loss)\n",
    "        print()\n",
    "        print(f\"Total Val Time Elapsed: {(time.time() - val_start):.2f} seconds\")\n",
    "        print(f\"Validator Loss: {val_loss}, Accuracy: {accuracy}\")\n",
    "        \n",
    "        epoch_times.append(time.time()-epoch_start)\n",
    "\n",
    "        # Save state_dict\n",
    "        if state_file:\n",
    "            torch.save(model.state_dict(), state_file)\n",
    "  \n",
    "    print(f\"Total Training Time: {str(sum(epoch_times))} seconds\")\n",
    "    return model, train_losses, avg_train_losses, val_losses, val_accs"
   ]
  },
  {
   "cell_type": "code",
   "execution_count": 38,
   "metadata": {
    "colab": {
     "base_uri": "https://localhost:8080/",
     "height": 725
    },
    "id": "5faM4_ScW4HG",
    "outputId": "47570ffd-a028-4dcc-a57f-8670d9f58e65"
   },
   "outputs": [
    {
     "name": "stderr",
     "output_type": "stream",
     "text": [
      "  0%|          | 0/196 [00:00<?, ?it/s]"
     ]
    },
    {
     "name": "stdout",
     "output_type": "stream",
     "text": [
      "WARNING: binary_model.pth does not exist. A new file will be created after first epoch.\n"
     ]
    },
    {
     "name": "stderr",
     "output_type": "stream",
     "text": [
      "Epoch 1, Step: 196/196, Loss: 0.02611302025616169, Average Loss for Epoch: 0.3401291596421696: 100%|██████████| 196/196 [01:06<00:00,  2.94it/s]   \n",
      "  2%|▏         | 1/63 [00:00<00:10,  6.04it/s]"
     ]
    },
    {
     "name": "stdout",
     "output_type": "stream",
     "text": [
      "\n",
      "Epoch 1/25 Done, Total Loss: 0.3401291596421696\n",
      "Total Train Time Elapsed: 66.61 seconds\n",
      "Evaluating...\n"
     ]
    },
    {
     "name": "stderr",
     "output_type": "stream",
     "text": [
      "100%|██████████| 63/63 [00:17<00:00,  3.50it/s]\n"
     ]
    },
    {
     "name": "stdout",
     "output_type": "stream",
     "text": [
      "\n",
      "Total Val Time Elapsed: 18.00 seconds\n",
      "Validator Loss: 0.42571316864008885, Accuracy: 0.8412698412698413\n"
     ]
    },
    {
     "name": "stderr",
     "output_type": "stream",
     "text": [
      "Epoch 2, Step: 196/196, Loss: 0.0003912875254172832, Average Loss for Epoch: 0.09459784119752264: 100%|██████████| 196/196 [01:06<00:00,  2.94it/s] \n",
      "  2%|▏         | 1/63 [00:00<00:10,  6.07it/s]"
     ]
    },
    {
     "name": "stdout",
     "output_type": "stream",
     "text": [
      "\n",
      "Epoch 2/25 Done, Total Loss: 0.09459784119752264\n",
      "Total Train Time Elapsed: 66.77 seconds\n",
      "Evaluating...\n"
     ]
    },
    {
     "name": "stderr",
     "output_type": "stream",
     "text": [
      "100%|██████████| 63/63 [00:18<00:00,  3.48it/s]\n"
     ]
    },
    {
     "name": "stdout",
     "output_type": "stream",
     "text": [
      "\n",
      "Total Val Time Elapsed: 18.09 seconds\n",
      "Validator Loss: 0.5301851682489787, Accuracy: 0.8888888888888888\n"
     ]
    },
    {
     "name": "stderr",
     "output_type": "stream",
     "text": [
      "Epoch 3, Step: 196/196, Loss: 0.003724900772795081, Average Loss for Epoch: 0.12069033335817912: 100%|██████████| 196/196 [01:06<00:00,  2.94it/s]  \n",
      "  0%|          | 0/63 [00:00<?, ?it/s]"
     ]
    },
    {
     "name": "stdout",
     "output_type": "stream",
     "text": [
      "\n",
      "Epoch 3/25 Done, Total Loss: 0.12069033335817912\n",
      "Total Train Time Elapsed: 66.63 seconds\n",
      "Evaluating...\n"
     ]
    },
    {
     "name": "stderr",
     "output_type": "stream",
     "text": [
      "100%|██████████| 63/63 [00:18<00:00,  3.47it/s]\n"
     ]
    },
    {
     "name": "stdout",
     "output_type": "stream",
     "text": [
      "\n",
      "Total Val Time Elapsed: 18.15 seconds\n",
      "Validator Loss: 0.25966075016104795, Accuracy: 0.8888888888888888\n"
     ]
    },
    {
     "name": "stderr",
     "output_type": "stream",
     "text": [
      "Epoch 4, Step: 196/196, Loss: 0.1569015085697174, Average Loss for Epoch: 0.1048363796654132: 100%|██████████| 196/196 [01:06<00:00,  2.94it/s]     \n",
      "  2%|▏         | 1/63 [00:00<00:10,  6.03it/s]"
     ]
    },
    {
     "name": "stdout",
     "output_type": "stream",
     "text": [
      "\n",
      "Epoch 4/25 Done, Total Loss: 0.1048363796654132\n",
      "Total Train Time Elapsed: 66.63 seconds\n",
      "Evaluating...\n"
     ]
    },
    {
     "name": "stderr",
     "output_type": "stream",
     "text": [
      "100%|██████████| 63/63 [00:17<00:00,  3.50it/s]\n"
     ]
    },
    {
     "name": "stdout",
     "output_type": "stream",
     "text": [
      "\n",
      "Total Val Time Elapsed: 17.98 seconds\n",
      "Validator Loss: 0.7887865539084905, Accuracy: 0.873015873015873\n"
     ]
    },
    {
     "name": "stderr",
     "output_type": "stream",
     "text": [
      "Epoch 5, Step: 196/196, Loss: 0.0028676362708210945, Average Loss for Epoch: 0.02660735823314544: 100%|██████████| 196/196 [01:06<00:00,  2.94it/s]  \n",
      "  2%|▏         | 1/63 [00:00<00:10,  6.14it/s]"
     ]
    },
    {
     "name": "stdout",
     "output_type": "stream",
     "text": [
      "\n",
      "Epoch 5/25 Done, Total Loss: 0.02660735823314544\n",
      "Total Train Time Elapsed: 66.70 seconds\n",
      "Evaluating...\n"
     ]
    },
    {
     "name": "stderr",
     "output_type": "stream",
     "text": [
      "100%|██████████| 63/63 [00:18<00:00,  3.46it/s]\n"
     ]
    },
    {
     "name": "stdout",
     "output_type": "stream",
     "text": [
      "\n",
      "Total Val Time Elapsed: 18.22 seconds\n",
      "Validator Loss: 0.7124345232679179, Accuracy: 0.8888888888888888\n"
     ]
    },
    {
     "name": "stderr",
     "output_type": "stream",
     "text": [
      "Epoch 6, Step: 196/196, Loss: 0.0023582761641591787, Average Loss for Epoch: 0.0042120599394003914: 100%|██████████| 196/196 [01:06<00:00,  2.93it/s] \n",
      "  2%|▏         | 1/63 [00:00<00:10,  6.09it/s]"
     ]
    },
    {
     "name": "stdout",
     "output_type": "stream",
     "text": [
      "\n",
      "Epoch 6/25 Done, Total Loss: 0.0042120599394003914\n",
      "Total Train Time Elapsed: 66.86 seconds\n",
      "Evaluating...\n"
     ]
    },
    {
     "name": "stderr",
     "output_type": "stream",
     "text": [
      "100%|██████████| 63/63 [00:18<00:00,  3.49it/s]\n"
     ]
    },
    {
     "name": "stdout",
     "output_type": "stream",
     "text": [
      "\n",
      "Total Val Time Elapsed: 18.04 seconds\n",
      "Validator Loss: 0.7242337276397776, Accuracy: 0.8888888888888888\n"
     ]
    },
    {
     "name": "stderr",
     "output_type": "stream",
     "text": [
      "Epoch 7, Step: 196/196, Loss: 0.0013842533808201551, Average Loss for Epoch: 0.001544333393089615: 100%|██████████| 196/196 [01:06<00:00,  2.93it/s]  \n",
      "  2%|▏         | 1/63 [00:00<00:10,  5.83it/s]"
     ]
    },
    {
     "name": "stdout",
     "output_type": "stream",
     "text": [
      "\n",
      "Epoch 7/25 Done, Total Loss: 0.001544333393089615\n",
      "Total Train Time Elapsed: 66.95 seconds\n",
      "Evaluating...\n"
     ]
    },
    {
     "name": "stderr",
     "output_type": "stream",
     "text": [
      "100%|██████████| 63/63 [00:18<00:00,  3.44it/s]\n"
     ]
    },
    {
     "name": "stdout",
     "output_type": "stream",
     "text": [
      "\n",
      "Total Val Time Elapsed: 18.31 seconds\n",
      "Validator Loss: 0.8155736444191317, Accuracy: 0.8888888888888888\n"
     ]
    },
    {
     "name": "stderr",
     "output_type": "stream",
     "text": [
      "Epoch 8, Step: 196/196, Loss: 0.0022373187821358442, Average Loss for Epoch: 0.00034315500229518985: 100%|██████████| 196/196 [01:07<00:00,  2.91it/s] \n",
      "  0%|          | 0/63 [00:00<?, ?it/s]"
     ]
    },
    {
     "name": "stdout",
     "output_type": "stream",
     "text": [
      "\n",
      "Epoch 8/25 Done, Total Loss: 0.00034315500229518985\n",
      "Total Train Time Elapsed: 67.30 seconds\n",
      "Evaluating...\n"
     ]
    },
    {
     "name": "stderr",
     "output_type": "stream",
     "text": [
      "100%|██████████| 63/63 [00:18<00:00,  3.41it/s]\n"
     ]
    },
    {
     "name": "stdout",
     "output_type": "stream",
     "text": [
      "\n",
      "Total Val Time Elapsed: 18.49 seconds\n",
      "Validator Loss: 0.8091817580155921, Accuracy: 0.8888888888888888\n"
     ]
    },
    {
     "name": "stderr",
     "output_type": "stream",
     "text": [
      "Epoch 9, Step: 196/196, Loss: 4.2199197196168825e-05, Average Loss for Epoch: 0.0002130289382565173: 100%|██████████| 196/196 [01:07<00:00,  2.91it/s] \n",
      "  2%|▏         | 1/63 [00:00<00:10,  5.81it/s]"
     ]
    },
    {
     "name": "stdout",
     "output_type": "stream",
     "text": [
      "\n",
      "Epoch 9/25 Done, Total Loss: 0.0002130289382565173\n",
      "Total Train Time Elapsed: 67.47 seconds\n",
      "Evaluating...\n"
     ]
    },
    {
     "name": "stderr",
     "output_type": "stream",
     "text": [
      "100%|██████████| 63/63 [00:18<00:00,  3.40it/s]\n"
     ]
    },
    {
     "name": "stdout",
     "output_type": "stream",
     "text": [
      "\n",
      "Total Val Time Elapsed: 18.54 seconds\n",
      "Validator Loss: 0.9274395360152091, Accuracy: 0.8888888888888888\n"
     ]
    },
    {
     "name": "stderr",
     "output_type": "stream",
     "text": [
      "Epoch 10, Step: 196/196, Loss: 2.074220174108632e-05, Average Loss for Epoch: 0.00020515543938203412: 100%|██████████| 196/196 [01:07<00:00,  2.91it/s] \n",
      "  2%|▏         | 1/63 [00:00<00:10,  5.75it/s]"
     ]
    },
    {
     "name": "stdout",
     "output_type": "stream",
     "text": [
      "\n",
      "Epoch 10/25 Done, Total Loss: 0.00020515543938203412\n",
      "Total Train Time Elapsed: 67.40 seconds\n",
      "Evaluating...\n"
     ]
    },
    {
     "name": "stderr",
     "output_type": "stream",
     "text": [
      "100%|██████████| 63/63 [00:18<00:00,  3.49it/s]\n"
     ]
    },
    {
     "name": "stdout",
     "output_type": "stream",
     "text": [
      "\n",
      "Total Val Time Elapsed: 18.08 seconds\n",
      "Validator Loss: 0.9669987839735645, Accuracy: 0.8888888888888888\n"
     ]
    },
    {
     "name": "stderr",
     "output_type": "stream",
     "text": [
      "Epoch 11, Step: 196/196, Loss: 1.3112935448589269e-05, Average Loss for Epoch: 0.00012248779635298462: 100%|██████████| 196/196 [01:06<00:00,  2.94it/s]\n",
      "  2%|▏         | 1/63 [00:00<00:10,  6.01it/s]"
     ]
    },
    {
     "name": "stdout",
     "output_type": "stream",
     "text": [
      "\n",
      "Epoch 11/25 Done, Total Loss: 0.00012248779635298462\n",
      "Total Train Time Elapsed: 66.77 seconds\n",
      "Evaluating...\n"
     ]
    },
    {
     "name": "stderr",
     "output_type": "stream",
     "text": [
      "100%|██████████| 63/63 [00:18<00:00,  3.50it/s]\n"
     ]
    },
    {
     "name": "stdout",
     "output_type": "stream",
     "text": [
      "\n",
      "Total Val Time Elapsed: 18.02 seconds\n",
      "Validator Loss: 1.0177356878024735, Accuracy: 0.8888888888888888\n"
     ]
    },
    {
     "name": "stderr",
     "output_type": "stream",
     "text": [
      "Epoch 12, Step: 196/196, Loss: 5.483612312673358e-06, Average Loss for Epoch: 9.113684309248091e-05: 100%|██████████| 196/196 [01:06<00:00,  2.93it/s]  \n",
      "  2%|▏         | 1/63 [00:00<00:10,  5.94it/s]"
     ]
    },
    {
     "name": "stdout",
     "output_type": "stream",
     "text": [
      "\n",
      "Epoch 12/25 Done, Total Loss: 9.113684309248091e-05\n",
      "Total Train Time Elapsed: 66.84 seconds\n",
      "Evaluating...\n"
     ]
    },
    {
     "name": "stderr",
     "output_type": "stream",
     "text": [
      "100%|██████████| 63/63 [00:18<00:00,  3.49it/s]\n"
     ]
    },
    {
     "name": "stdout",
     "output_type": "stream",
     "text": [
      "\n",
      "Total Val Time Elapsed: 18.05 seconds\n",
      "Validator Loss: 1.0162862630921456, Accuracy: 0.8888888888888888\n"
     ]
    },
    {
     "name": "stderr",
     "output_type": "stream",
     "text": [
      "Epoch 13, Step: 196/196, Loss: 1.1205610462639015e-05, Average Loss for Epoch: 8.632599492232527e-05: 100%|██████████| 196/196 [01:06<00:00,  2.94it/s] \n",
      "  0%|          | 0/63 [00:00<?, ?it/s]"
     ]
    },
    {
     "name": "stdout",
     "output_type": "stream",
     "text": [
      "\n",
      "Epoch 13/25 Done, Total Loss: 8.632599492232527e-05\n",
      "Total Train Time Elapsed: 66.70 seconds\n",
      "Evaluating...\n"
     ]
    },
    {
     "name": "stderr",
     "output_type": "stream",
     "text": [
      "100%|██████████| 63/63 [00:18<00:00,  3.45it/s]\n"
     ]
    },
    {
     "name": "stdout",
     "output_type": "stream",
     "text": [
      "\n",
      "Total Val Time Elapsed: 18.27 seconds\n",
      "Validator Loss: 1.0468154461796544, Accuracy: 0.8888888888888888\n"
     ]
    },
    {
     "name": "stderr",
     "output_type": "stream",
     "text": [
      "Epoch 14, Step: 196/196, Loss: 8.737658936297521e-05, Average Loss for Epoch: 5.0244563209041506e-05: 100%|██████████| 196/196 [01:07<00:00,  2.92it/s] \n",
      "  2%|▏         | 1/63 [00:00<00:10,  5.65it/s]"
     ]
    },
    {
     "name": "stdout",
     "output_type": "stream",
     "text": [
      "\n",
      "Epoch 14/25 Done, Total Loss: 5.0244563209041506e-05\n",
      "Total Train Time Elapsed: 67.09 seconds\n",
      "Evaluating...\n"
     ]
    },
    {
     "name": "stderr",
     "output_type": "stream",
     "text": [
      "100%|██████████| 63/63 [00:18<00:00,  3.41it/s]\n"
     ]
    },
    {
     "name": "stdout",
     "output_type": "stream",
     "text": [
      "\n",
      "Total Val Time Elapsed: 18.47 seconds\n",
      "Validator Loss: 1.0547281460248816, Accuracy: 0.8888888888888888\n"
     ]
    },
    {
     "name": "stderr",
     "output_type": "stream",
     "text": [
      "Epoch 15, Step: 196/196, Loss: 9.65590606938349e-06, Average Loss for Epoch: 4.130950565628173e-05: 100%|██████████| 196/196 [01:07<00:00,  2.91it/s]   \n",
      "  2%|▏         | 1/63 [00:00<00:10,  5.88it/s]"
     ]
    },
    {
     "name": "stdout",
     "output_type": "stream",
     "text": [
      "\n",
      "Epoch 15/25 Done, Total Loss: 4.130950565628173e-05\n",
      "Total Train Time Elapsed: 67.28 seconds\n",
      "Evaluating...\n"
     ]
    },
    {
     "name": "stderr",
     "output_type": "stream",
     "text": [
      "100%|██████████| 63/63 [00:18<00:00,  3.42it/s]\n"
     ]
    },
    {
     "name": "stdout",
     "output_type": "stream",
     "text": [
      "\n",
      "Total Val Time Elapsed: 18.42 seconds\n",
      "Validator Loss: 1.035049378635099, Accuracy: 0.8888888888888888\n"
     ]
    },
    {
     "name": "stderr",
     "output_type": "stream",
     "text": [
      "Epoch 16, Step: 196/196, Loss: 5.006777428206988e-06, Average Loss for Epoch: 3.93297363936134e-05: 100%|██████████| 196/196 [01:07<00:00,  2.90it/s]   \n",
      "  2%|▏         | 1/63 [00:00<00:10,  6.10it/s]"
     ]
    },
    {
     "name": "stdout",
     "output_type": "stream",
     "text": [
      "\n",
      "Epoch 16/25 Done, Total Loss: 3.93297363936134e-05\n",
      "Total Train Time Elapsed: 67.70 seconds\n",
      "Evaluating...\n"
     ]
    },
    {
     "name": "stderr",
     "output_type": "stream",
     "text": [
      "100%|██████████| 63/63 [00:18<00:00,  3.48it/s]\n"
     ]
    },
    {
     "name": "stdout",
     "output_type": "stream",
     "text": [
      "\n",
      "Total Val Time Elapsed: 18.08 seconds\n",
      "Validator Loss: 1.027273080659139, Accuracy: 0.8888888888888888\n"
     ]
    },
    {
     "name": "stderr",
     "output_type": "stream",
     "text": [
      "Epoch 17, Step: 196/196, Loss: 4.970903682988137e-05, Average Loss for Epoch: 3.2460736173798256e-05: 100%|██████████| 196/196 [01:07<00:00,  2.92it/s] \n",
      "  2%|▏         | 1/63 [00:00<00:10,  6.03it/s]"
     ]
    },
    {
     "name": "stdout",
     "output_type": "stream",
     "text": [
      "\n",
      "Epoch 17/25 Done, Total Loss: 3.2460736173798256e-05\n",
      "Total Train Time Elapsed: 67.11 seconds\n",
      "Evaluating...\n"
     ]
    },
    {
     "name": "stderr",
     "output_type": "stream",
     "text": [
      "100%|██████████| 63/63 [00:18<00:00,  3.49it/s]\n"
     ]
    },
    {
     "name": "stdout",
     "output_type": "stream",
     "text": [
      "\n",
      "Total Val Time Elapsed: 18.05 seconds\n",
      "Validator Loss: 1.1099700091518943, Accuracy: 0.8888888888888888\n"
     ]
    },
    {
     "name": "stderr",
     "output_type": "stream",
     "text": [
      "Epoch 18, Step: 196/196, Loss: 0.00011062010162277147, Average Loss for Epoch: 3.237970147020693e-05: 100%|██████████| 196/196 [01:06<00:00,  2.94it/s] \n",
      "  0%|          | 0/63 [00:00<?, ?it/s]"
     ]
    },
    {
     "name": "stdout",
     "output_type": "stream",
     "text": [
      "\n",
      "Epoch 18/25 Done, Total Loss: 3.237970147020693e-05\n",
      "Total Train Time Elapsed: 66.66 seconds\n",
      "Evaluating...\n"
     ]
    },
    {
     "name": "stderr",
     "output_type": "stream",
     "text": [
      "100%|██████████| 63/63 [00:18<00:00,  3.47it/s]\n"
     ]
    },
    {
     "name": "stdout",
     "output_type": "stream",
     "text": [
      "\n",
      "Total Val Time Elapsed: 18.17 seconds\n",
      "Validator Loss: 1.0759938250628762, Accuracy: 0.8888888888888888\n"
     ]
    },
    {
     "name": "stderr",
     "output_type": "stream",
     "text": [
      "Epoch 19, Step: 196/196, Loss: 9.536738616588991e-07, Average Loss for Epoch: 2.553429465836286e-05: 100%|██████████| 196/196 [01:06<00:00,  2.94it/s]  \n",
      "  2%|▏         | 1/63 [00:00<00:10,  6.08it/s]"
     ]
    },
    {
     "name": "stdout",
     "output_type": "stream",
     "text": [
      "\n",
      "Epoch 19/25 Done, Total Loss: 2.553429465836286e-05\n",
      "Total Train Time Elapsed: 66.72 seconds\n",
      "Evaluating...\n"
     ]
    },
    {
     "name": "stderr",
     "output_type": "stream",
     "text": [
      "100%|██████████| 63/63 [00:17<00:00,  3.50it/s]\n"
     ]
    },
    {
     "name": "stdout",
     "output_type": "stream",
     "text": [
      "\n",
      "Total Val Time Elapsed: 18.00 seconds\n",
      "Validator Loss: 1.1022775977542503, Accuracy: 0.8888888888888888\n"
     ]
    },
    {
     "name": "stderr",
     "output_type": "stream",
     "text": [
      "Epoch 20, Step: 196/196, Loss: 6.6756979322235566e-06, Average Loss for Epoch: 2.2560349443247847e-05: 100%|██████████| 196/196 [01:06<00:00,  2.94it/s]\n",
      "  2%|▏         | 1/63 [00:00<00:10,  6.05it/s]"
     ]
    },
    {
     "name": "stdout",
     "output_type": "stream",
     "text": [
      "\n",
      "Epoch 20/25 Done, Total Loss: 2.2560349443247847e-05\n",
      "Total Train Time Elapsed: 66.58 seconds\n",
      "Evaluating...\n"
     ]
    },
    {
     "name": "stderr",
     "output_type": "stream",
     "text": [
      "100%|██████████| 63/63 [00:18<00:00,  3.49it/s]\n"
     ]
    },
    {
     "name": "stdout",
     "output_type": "stream",
     "text": [
      "\n",
      "Total Val Time Elapsed: 18.08 seconds\n",
      "Validator Loss: 1.1298648278947834, Accuracy: 0.8888888888888888\n"
     ]
    },
    {
     "name": "stderr",
     "output_type": "stream",
     "text": [
      "Epoch 21, Step: 196/196, Loss: 1.6093124941107817e-05, Average Loss for Epoch: 2.277979316507215e-05: 100%|██████████| 196/196 [01:06<00:00,  2.94it/s] \n",
      "  2%|▏         | 1/63 [00:00<00:10,  6.07it/s]"
     ]
    },
    {
     "name": "stdout",
     "output_type": "stream",
     "text": [
      "\n",
      "Epoch 21/25 Done, Total Loss: 2.277979316507215e-05\n",
      "Total Train Time Elapsed: 66.77 seconds\n",
      "Evaluating...\n"
     ]
    },
    {
     "name": "stderr",
     "output_type": "stream",
     "text": [
      "100%|██████████| 63/63 [00:17<00:00,  3.52it/s]\n"
     ]
    },
    {
     "name": "stdout",
     "output_type": "stream",
     "text": [
      "\n",
      "Total Val Time Elapsed: 17.92 seconds\n",
      "Validator Loss: 1.1558664939368275, Accuracy: 0.8888888888888888\n"
     ]
    },
    {
     "name": "stderr",
     "output_type": "stream",
     "text": [
      "Epoch 22, Step: 196/196, Loss: 5.483612312673358e-06, Average Loss for Epoch: 1.5130274317350401e-05: 100%|██████████| 196/196 [01:06<00:00,  2.94it/s] \n",
      "  2%|▏         | 1/63 [00:00<00:10,  6.04it/s]"
     ]
    },
    {
     "name": "stdout",
     "output_type": "stream",
     "text": [
      "\n",
      "Epoch 22/25 Done, Total Loss: 1.5130274317350401e-05\n",
      "Total Train Time Elapsed: 66.70 seconds\n",
      "Evaluating...\n"
     ]
    },
    {
     "name": "stderr",
     "output_type": "stream",
     "text": [
      "100%|██████████| 63/63 [00:18<00:00,  3.49it/s]\n"
     ]
    },
    {
     "name": "stdout",
     "output_type": "stream",
     "text": [
      "\n",
      "Total Val Time Elapsed: 18.04 seconds\n",
      "Validator Loss: 1.1423810495397437, Accuracy: 0.8888888888888888\n"
     ]
    },
    {
     "name": "stderr",
     "output_type": "stream",
     "text": [
      "Epoch 23, Step: 196/196, Loss: 1.4662635294371285e-05, Average Loss for Epoch: 1.5467255056246264e-05: 100%|██████████| 196/196 [01:06<00:00,  2.95it/s]\n",
      "  0%|          | 0/63 [00:00<?, ?it/s]"
     ]
    },
    {
     "name": "stdout",
     "output_type": "stream",
     "text": [
      "\n",
      "Epoch 23/25 Done, Total Loss: 1.5467255056246264e-05\n",
      "Total Train Time Elapsed: 66.53 seconds\n",
      "Evaluating...\n"
     ]
    },
    {
     "name": "stderr",
     "output_type": "stream",
     "text": [
      "100%|██████████| 63/63 [00:17<00:00,  3.51it/s]\n"
     ]
    },
    {
     "name": "stdout",
     "output_type": "stream",
     "text": [
      "\n",
      "Total Val Time Elapsed: 17.97 seconds\n",
      "Validator Loss: 1.1335874464320796, Accuracy: 0.8888888888888888\n"
     ]
    },
    {
     "name": "stderr",
     "output_type": "stream",
     "text": [
      "Epoch 24, Step: 196/196, Loss: 3.933898824470816e-06, Average Loss for Epoch: 1.192182862891922e-05: 100%|██████████| 196/196 [01:06<00:00,  2.95it/s]  \n",
      "  2%|▏         | 1/63 [00:00<00:10,  6.05it/s]"
     ]
    },
    {
     "name": "stdout",
     "output_type": "stream",
     "text": [
      "\n",
      "Epoch 24/25 Done, Total Loss: 1.192182862891922e-05\n",
      "Total Train Time Elapsed: 66.43 seconds\n",
      "Evaluating...\n"
     ]
    },
    {
     "name": "stderr",
     "output_type": "stream",
     "text": [
      "100%|██████████| 63/63 [00:18<00:00,  3.49it/s]\n"
     ]
    },
    {
     "name": "stdout",
     "output_type": "stream",
     "text": [
      "\n",
      "Total Val Time Elapsed: 18.05 seconds\n",
      "Validator Loss: 1.1461282473598138, Accuracy: 0.8888888888888888\n"
     ]
    },
    {
     "name": "stderr",
     "output_type": "stream",
     "text": [
      "Epoch 25, Step: 196/196, Loss: 2.7418097943154862e-06, Average Loss for Epoch: 1.2284732779984811e-05: 100%|██████████| 196/196 [01:06<00:00,  2.94it/s]\n",
      "  2%|▏         | 1/63 [00:00<00:10,  6.08it/s]"
     ]
    },
    {
     "name": "stdout",
     "output_type": "stream",
     "text": [
      "\n",
      "Epoch 25/25 Done, Total Loss: 1.2284732779984811e-05\n",
      "Total Train Time Elapsed: 66.58 seconds\n",
      "Evaluating...\n"
     ]
    },
    {
     "name": "stderr",
     "output_type": "stream",
     "text": [
      "100%|██████████| 63/63 [00:17<00:00,  3.50it/s]\n"
     ]
    },
    {
     "name": "stdout",
     "output_type": "stream",
     "text": [
      "\n",
      "Total Val Time Elapsed: 17.99 seconds\n",
      "Validator Loss: 1.1968615847535904, Accuracy: 0.8888888888888888\n",
      "Total Training Time: 2125.256676673889 seconds\n"
     ]
    }
   ],
   "source": [
    "# Set up our data loaders\n",
    "train_loader = DataLoader(train_dataset, shuffle=True)\n",
    "val_loader = DataLoader(val_dataset, shuffle=False)\n",
    "# Train our model\n",
    "model, new_train_losses, new_avg_train_losses, new_val_losses, new_val_accs = train(train_loader, val_loader, .001, state_file='binary_model.pth', EPOCHS=25)\n",
    "train_losses += new_train_losses\n",
    "avg_train_losses += new_avg_train_losses\n",
    "val_losses += new_val_losses\n",
    "val_accs += new_val_accs"
   ]
  },
  {
   "cell_type": "code",
   "execution_count": 39,
   "metadata": {},
   "outputs": [
    {
     "data": {
      "image/png": "[encoded data removed]",
      "text/plain": [
       "<Figure size 432x288 with 1 Axes>"
      ]
     },
     "metadata": {
      "needs_background": "light"
     },
     "output_type": "display_data"
    }
   ],
   "source": [
    "plt.plot(avg_train_losses, 'o-', label='Training Loss')\n",
    "plt.plot(val_losses, 'o-', label='Validation Loss')\n",
    "plt.plot(val_accs, 'o-', label='Validation Accuracy')\n",
    "plt.legend()\n",
    "plt.show()"
   ]
  },
  {
   "cell_type": "code",
   "execution_count": 29,
   "metadata": {},
   "outputs": [],
   "source": [
    "train_losses = []\n",
    "avg_train_losses = []\n",
    "val_losses = []\n",
    "val_accs = []"
   ]
  },
  {
   "cell_type": "code",
   "execution_count": null,
   "metadata": {},
   "outputs": [],
   "source": []
  }
 ],
 "metadata": {
  "colab": {
   "collapsed_sections": [],
   "name": "Video Classification",
   "provenance": [],
   "toc_visible": true
  },
  "environment": {
   "name": "pytorch-gpu.1-8.m65",
   "type": "gcloud",
   "uri": "gcr.io/deeplearning-platform-release/pytorch-gpu.1-8:m65"
  },
  "kernelspec": {
   "display_name": "Python 3",
   "language": "python",
   "name": "python3"
  },
  "language_info": {
   "codemirror_mode": {
    "name": "ipython",
    "version": 3
   },
   "file_extension": ".py",
   "mimetype": "text/x-python",
   "name": "python",
   "nbconvert_exporter": "python",
   "pygments_lexer": "ipython3",
   "version": "3.7.10"
  }
 },
 "nbformat": 4,
 "nbformat_minor": 4
}
